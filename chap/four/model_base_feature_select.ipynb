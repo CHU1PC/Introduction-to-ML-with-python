{
 "cells": [
  {
   "cell_type": "code",
   "execution_count": 6,
   "id": "37bc4b1e",
   "metadata": {},
   "outputs": [],
   "source": [
    "import matplotlib.pyplot as plt\n",
    "import numpy as np\n",
    "from sklearn.datasets import load_breast_cancer\n",
    "from sklearn.feature_selection import SelectPercentile\n",
    "from sklearn.model_selection import train_test_split\n",
    "from sklearn.feature_selection import SelectFromModel\n",
    "from sklearn.ensemble import RandomForestClassifier\n",
    "from sklearn.linear_model import LogisticRegression"
   ]
  },
  {
   "cell_type": "code",
   "execution_count": 27,
   "id": "95c73464",
   "metadata": {},
   "outputs": [],
   "source": [
    "select = SelectFromModel(\n",
    "    RandomForestClassifier(n_estimators=100, random_state=42), threshold=\"median\"\n",
    "    # SelecFromModelクラスは教師あり学習モデルで得られた特徴量の重要性が、指定したthresholdより大きければ採用する\n",
    ")"
   ]
  },
  {
   "cell_type": "code",
   "execution_count": 28,
   "id": "429a2527",
   "metadata": {},
   "outputs": [
    {
     "name": "stdout",
     "output_type": "stream",
     "text": [
      "(284, 80)\n",
      "(284, 40)\n"
     ]
    }
   ],
   "source": [
    "cancer = load_breast_cancer()\n",
    "rng = np.random.default_rng(seed=42)\n",
    "\n",
    "# noiseを作る\n",
    "noise = rng.normal(size=(len(cancer.data), 50))\n",
    "\n",
    "# noiseを付け足す\n",
    "# hstackは新しい列を作る, pd.concat(axis=1)と同じ\n",
    "X_w_noise = np.hstack([cancer[\"data\"], noise])\n",
    "\n",
    "\n",
    "X_train, X_test, y_train, y_test = train_test_split(X_w_noise, cancer[\"target\"], random_state=0, test_size=0.5)\n",
    "\n",
    "select.fit(X_train, y_train)\n",
    "X_train_l1 = select.transform(X_train)\n",
    "print(X_train.shape)\n",
    "print(X_train_l1.shape)"
   ]
  },
  {
   "cell_type": "code",
   "execution_count": 29,
   "id": "20cf8a35",
   "metadata": {},
   "outputs": [
    {
     "data": {
      "text/plain": [
       "Text(0.5, 0, 'Sample, index')"
      ]
     },
     "execution_count": 29,
     "metadata": {},
     "output_type": "execute_result"
    },
    {
     "data": {
      "image/png": "[encoded data removed]",
      "text/plain": [
       "<Figure size 1600x200 with 1 Axes>"
      ]
     },
     "metadata": {},
     "output_type": "display_data"
    }
   ],
   "source": [
    "mask = select.get_support()\n",
    "plt.matshow(mask.reshape(1, -1), cmap=\"gray_r\")\n",
    "plt.xlabel(\"Sample, index\")"
   ]
  },
  {
   "cell_type": "code",
   "execution_count": 30,
   "id": "f0d8dc67",
   "metadata": {},
   "outputs": [
    {
     "name": "stdout",
     "output_type": "stream",
     "text": [
      "0.9438596491228071\n"
     ]
    }
   ],
   "source": [
    "X_test_l1 = select.transform(X_test)\n",
    "score = LogisticRegression(max_iter=2765).fit(X_train_l1, y_train).score(X_test_l1, y_test)\n",
    "print(score)"
   ]
  },
  {
   "cell_type": "code",
   "execution_count": null,
   "id": "97d611d9",
   "metadata": {},
   "outputs": [],
   "source": []
  }
 ],
 "metadata": {
  "kernelspec": {
   "display_name": "Python 3",
   "language": "python",
   "name": "python3"
  },
  "language_info": {
   "codemirror_mode": {
    "name": "ipython",
    "version": 3
   },
   "file_extension": ".py",
   "mimetype": "text/x-python",
   "name": "python",
   "nbconvert_exporter": "python",
   "pygments_lexer": "ipython3",
   "version": "3.12.9"
  }
 },
 "nbformat": 4,
 "nbformat_minor": 5
}
